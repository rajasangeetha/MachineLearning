{
 "cells": [
  {
   "cell_type": "markdown",
   "metadata": {},
   "source": [
    "This Notebook is to compare the accuracy of the dataset without any NaN values and with Nan values.\n",
    "\n",
    "Author : Sangeetha Vijayam\n",
    "Date : 14-Feb-2025"
   ]
  },
  {
   "cell_type": "code",
   "execution_count": 4,
   "metadata": {},
   "outputs": [
    {
     "name": "stdout",
     "output_type": "stream",
     "text": [
      "Accuracy: 0.9473684210526315\n",
      "\n",
      "Confusion Matrix:\n",
      " [[40  3]\n",
      " [ 3 68]]\n",
      "\n",
      "Classification Report:\n",
      "               precision    recall  f1-score   support\n",
      "\n",
      "           0       0.93      0.93      0.93        43\n",
      "           1       0.96      0.96      0.96        71\n",
      "\n",
      "    accuracy                           0.95       114\n",
      "   macro avg       0.94      0.94      0.94       114\n",
      "weighted avg       0.95      0.95      0.95       114\n",
      "\n"
     ]
    }
   ],
   "source": [
    "# Import required libraries\n",
    "import pandas as pd\n",
    "import numpy as np\n",
    "from sklearn.datasets import load_breast_cancer\n",
    "from sklearn.tree import DecisionTreeClassifier\n",
    "from sklearn.model_selection import train_test_split\n",
    "from sklearn.metrics import accuracy_score, confusion_matrix, classification_report\n",
    "\n",
    "\n",
    "# Loading the dataset\n",
    "brst_cancer = load_breast_cancer(as_frame=True)\n",
    "df = brst_cancer.frame\n",
    "\n",
    "# Separate independant variables and target\n",
    "X = df.drop(columns=['target'])  # independant variables\n",
    "y = df['target']  # 0 is Malignant, 1 is Benign\n",
    "\n",
    "# Spliting the data into train and test\n",
    "X_train, X_test, y_train, y_test = train_test_split(X, y, test_size=0.2, random_state=42)\n",
    "\n",
    "# Create the Decision Tree Classifier\n",
    "model = DecisionTreeClassifier(random_state=42)\n",
    "model.fit(X_train, y_train)\n",
    "\n",
    "# predictions\n",
    "y_pred = model.predict(X_test)\n",
    "\n",
    "# Model evaluation\n",
    "accuracy = accuracy_score(y_test, y_pred)\n",
    "cm = confusion_matrix(y_test, y_pred)\n",
    "cr = classification_report(y_test, y_pred)\n",
    "\n",
    "print(\"Accuracy:\", accuracy)\n",
    "print(\"\\nConfusion Matrix:\\n\", cm)\n",
    "print(\"\\nClassification Report:\\n\", cr)"
   ]
  },
  {
   "cell_type": "code",
   "execution_count": 5,
   "metadata": {},
   "outputs": [
    {
     "name": "stdout",
     "output_type": "stream",
     "text": [
      "100\n"
     ]
    }
   ],
   "source": [
    "np.random.seed(42)\n",
    "# Select 100 indices randomly and set NaN in 'mean radius' column\n",
    "random_indices = X.sample(n=100).index\n",
    "\n",
    "X.loc[random_indices, 'mean radius'] = np.nan\n",
    "X.loc[random_indices, 'mean texture'] = np.nan\n",
    "X.loc[random_indices, 'mean perimeter'] = np.nan\n",
    "X.loc[random_indices, 'mean area'] = np.nan\n",
    "X.loc[random_indices, 'mean smoothness'] = np.nan\n",
    "X.loc[random_indices, 'mean compactness'] = np.nan\n",
    "X.loc[random_indices, 'mean concavity'] = np.nan\n",
    "X.loc[random_indices, 'mean concave points'] = np.nan\n",
    "X.loc[random_indices, 'mean symmetry'] = np.nan\n",
    "X.loc[random_indices, 'mean fractal dimension'] = np.nan\n",
    "# Check the number of NaN's\n",
    "print(len(X.loc[random_indices, 'mean radius']))"
   ]
  },
  {
   "cell_type": "code",
   "execution_count": 6,
   "metadata": {},
   "outputs": [
    {
     "name": "stdout",
     "output_type": "stream",
     "text": [
      "Updated Accuracy: 0.6929824561403509\n",
      "\n",
      "Updated Confusion Matrix:\n",
      " [[11 32]\n",
      " [ 3 68]]\n",
      "\n",
      "Updated Classification Report:\n",
      "               precision    recall  f1-score   support\n",
      "\n",
      "           0       0.79      0.26      0.39        43\n",
      "           1       0.68      0.96      0.80        71\n",
      "\n",
      "    accuracy                           0.69       114\n",
      "   macro avg       0.73      0.61      0.59       114\n",
      "weighted avg       0.72      0.69      0.64       114\n",
      "\n"
     ]
    }
   ],
   "source": [
    "# perform same set of prediction steps in the updated dependant variable\n",
    "X_train, X_test, y_train, y_test = train_test_split(X, y, test_size=0.2, random_state=42)\n",
    "model = DecisionTreeClassifier(random_state=42)\n",
    "model.fit(X_train, y_train)\n",
    "y_pred = model.predict(X_test)\n",
    "\n",
    "accuracy_upd = accuracy_score(y_test, y_pred)\n",
    "cm_upd = confusion_matrix(y_test, y_pred)\n",
    "cr_upd = classification_report(y_test, y_pred)\n",
    "\n",
    "print(\"Updated Accuracy:\", accuracy_upd)\n",
    "print(\"\\nUpdated Confusion Matrix:\\n\", cm_upd)\n",
    "print(\"\\nUpdated Classification Report:\\n\", cr_upd)\n"
   ]
  },
  {
   "cell_type": "markdown",
   "metadata": {},
   "source": [
    "Conclusion:\n",
    "\n",
    "There is around 25% reduction of accuracy after making the columns NaN"
   ]
  },
  {
   "cell_type": "code",
   "execution_count": null,
   "metadata": {},
   "outputs": [],
   "source": []
  }
 ],
 "metadata": {
  "kernelspec": {
   "display_name": "ana",
   "language": "python",
   "name": "python3"
  },
  "language_info": {
   "codemirror_mode": {
    "name": "ipython",
    "version": 3
   },
   "file_extension": ".py",
   "mimetype": "text/x-python",
   "name": "python",
   "nbconvert_exporter": "python",
   "pygments_lexer": "ipython3",
   "version": "3.12.7"
  }
 },
 "nbformat": 4,
 "nbformat_minor": 2
}
